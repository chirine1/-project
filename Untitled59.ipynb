{
 "cells": [
  {
   "cell_type": "markdown",
   "id": "51fa42a0",
   "metadata": {},
   "source": [
    "# importing our dataset from csv file"
   ]
  },
  {
   "cell_type": "code",
   "execution_count": 2,
   "id": "9fb0e410",
   "metadata": {
    "ExecuteTime": {
     "end_time": "2022-09-15T19:22:25.734547Z",
     "start_time": "2022-09-15T19:22:24.776966Z"
    }
   },
   "outputs": [
    {
     "data": {
      "text/html": [
       "<div>\n",
       "<style scoped>\n",
       "    .dataframe tbody tr th:only-of-type {\n",
       "        vertical-align: middle;\n",
       "    }\n",
       "\n",
       "    .dataframe tbody tr th {\n",
       "        vertical-align: top;\n",
       "    }\n",
       "\n",
       "    .dataframe thead th {\n",
       "        text-align: right;\n",
       "    }\n",
       "</style>\n",
       "<table border=\"1\" class=\"dataframe\">\n",
       "  <thead>\n",
       "    <tr style=\"text-align: right;\">\n",
       "      <th></th>\n",
       "      <th>age</th>\n",
       "      <th>sex</th>\n",
       "      <th>cp</th>\n",
       "      <th>trestbps</th>\n",
       "      <th>chol</th>\n",
       "      <th>fbs</th>\n",
       "      <th>restecg</th>\n",
       "      <th>thalach</th>\n",
       "      <th>exang</th>\n",
       "      <th>oldpeak</th>\n",
       "      <th>slope</th>\n",
       "      <th>ca</th>\n",
       "      <th>thal</th>\n",
       "      <th>target</th>\n",
       "    </tr>\n",
       "  </thead>\n",
       "  <tbody>\n",
       "    <tr>\n",
       "      <th>0</th>\n",
       "      <td>52</td>\n",
       "      <td>1</td>\n",
       "      <td>0</td>\n",
       "      <td>125</td>\n",
       "      <td>212</td>\n",
       "      <td>0</td>\n",
       "      <td>1</td>\n",
       "      <td>168</td>\n",
       "      <td>0</td>\n",
       "      <td>1.0</td>\n",
       "      <td>2</td>\n",
       "      <td>2</td>\n",
       "      <td>3</td>\n",
       "      <td>0</td>\n",
       "    </tr>\n",
       "    <tr>\n",
       "      <th>1</th>\n",
       "      <td>53</td>\n",
       "      <td>1</td>\n",
       "      <td>0</td>\n",
       "      <td>140</td>\n",
       "      <td>203</td>\n",
       "      <td>1</td>\n",
       "      <td>0</td>\n",
       "      <td>155</td>\n",
       "      <td>1</td>\n",
       "      <td>3.1</td>\n",
       "      <td>0</td>\n",
       "      <td>0</td>\n",
       "      <td>3</td>\n",
       "      <td>0</td>\n",
       "    </tr>\n",
       "    <tr>\n",
       "      <th>2</th>\n",
       "      <td>70</td>\n",
       "      <td>1</td>\n",
       "      <td>0</td>\n",
       "      <td>145</td>\n",
       "      <td>174</td>\n",
       "      <td>0</td>\n",
       "      <td>1</td>\n",
       "      <td>125</td>\n",
       "      <td>1</td>\n",
       "      <td>2.6</td>\n",
       "      <td>0</td>\n",
       "      <td>0</td>\n",
       "      <td>3</td>\n",
       "      <td>0</td>\n",
       "    </tr>\n",
       "    <tr>\n",
       "      <th>3</th>\n",
       "      <td>61</td>\n",
       "      <td>1</td>\n",
       "      <td>0</td>\n",
       "      <td>148</td>\n",
       "      <td>203</td>\n",
       "      <td>0</td>\n",
       "      <td>1</td>\n",
       "      <td>161</td>\n",
       "      <td>0</td>\n",
       "      <td>0.0</td>\n",
       "      <td>2</td>\n",
       "      <td>1</td>\n",
       "      <td>3</td>\n",
       "      <td>0</td>\n",
       "    </tr>\n",
       "    <tr>\n",
       "      <th>4</th>\n",
       "      <td>62</td>\n",
       "      <td>0</td>\n",
       "      <td>0</td>\n",
       "      <td>138</td>\n",
       "      <td>294</td>\n",
       "      <td>1</td>\n",
       "      <td>1</td>\n",
       "      <td>106</td>\n",
       "      <td>0</td>\n",
       "      <td>1.9</td>\n",
       "      <td>1</td>\n",
       "      <td>3</td>\n",
       "      <td>2</td>\n",
       "      <td>0</td>\n",
       "    </tr>\n",
       "    <tr>\n",
       "      <th>...</th>\n",
       "      <td>...</td>\n",
       "      <td>...</td>\n",
       "      <td>...</td>\n",
       "      <td>...</td>\n",
       "      <td>...</td>\n",
       "      <td>...</td>\n",
       "      <td>...</td>\n",
       "      <td>...</td>\n",
       "      <td>...</td>\n",
       "      <td>...</td>\n",
       "      <td>...</td>\n",
       "      <td>...</td>\n",
       "      <td>...</td>\n",
       "      <td>...</td>\n",
       "    </tr>\n",
       "    <tr>\n",
       "      <th>1015</th>\n",
       "      <td>58</td>\n",
       "      <td>1</td>\n",
       "      <td>0</td>\n",
       "      <td>128</td>\n",
       "      <td>216</td>\n",
       "      <td>0</td>\n",
       "      <td>0</td>\n",
       "      <td>131</td>\n",
       "      <td>1</td>\n",
       "      <td>2.2</td>\n",
       "      <td>1</td>\n",
       "      <td>3</td>\n",
       "      <td>3</td>\n",
       "      <td>0</td>\n",
       "    </tr>\n",
       "    <tr>\n",
       "      <th>1016</th>\n",
       "      <td>65</td>\n",
       "      <td>1</td>\n",
       "      <td>3</td>\n",
       "      <td>138</td>\n",
       "      <td>282</td>\n",
       "      <td>1</td>\n",
       "      <td>0</td>\n",
       "      <td>174</td>\n",
       "      <td>0</td>\n",
       "      <td>1.4</td>\n",
       "      <td>1</td>\n",
       "      <td>1</td>\n",
       "      <td>2</td>\n",
       "      <td>0</td>\n",
       "    </tr>\n",
       "    <tr>\n",
       "      <th>1017</th>\n",
       "      <td>53</td>\n",
       "      <td>1</td>\n",
       "      <td>0</td>\n",
       "      <td>123</td>\n",
       "      <td>282</td>\n",
       "      <td>0</td>\n",
       "      <td>1</td>\n",
       "      <td>95</td>\n",
       "      <td>1</td>\n",
       "      <td>2.0</td>\n",
       "      <td>1</td>\n",
       "      <td>2</td>\n",
       "      <td>3</td>\n",
       "      <td>0</td>\n",
       "    </tr>\n",
       "    <tr>\n",
       "      <th>1018</th>\n",
       "      <td>41</td>\n",
       "      <td>1</td>\n",
       "      <td>0</td>\n",
       "      <td>110</td>\n",
       "      <td>172</td>\n",
       "      <td>0</td>\n",
       "      <td>0</td>\n",
       "      <td>158</td>\n",
       "      <td>0</td>\n",
       "      <td>0.0</td>\n",
       "      <td>2</td>\n",
       "      <td>0</td>\n",
       "      <td>3</td>\n",
       "      <td>0</td>\n",
       "    </tr>\n",
       "    <tr>\n",
       "      <th>1019</th>\n",
       "      <td>47</td>\n",
       "      <td>1</td>\n",
       "      <td>0</td>\n",
       "      <td>112</td>\n",
       "      <td>204</td>\n",
       "      <td>0</td>\n",
       "      <td>1</td>\n",
       "      <td>143</td>\n",
       "      <td>0</td>\n",
       "      <td>0.1</td>\n",
       "      <td>2</td>\n",
       "      <td>0</td>\n",
       "      <td>2</td>\n",
       "      <td>1</td>\n",
       "    </tr>\n",
       "  </tbody>\n",
       "</table>\n",
       "<p>1020 rows × 14 columns</p>\n",
       "</div>"
      ],
      "text/plain": [
       "      age  sex  cp  trestbps  chol  fbs  restecg  thalach  exang  oldpeak  \\\n",
       "0      52    1   0       125   212    0        1      168      0      1.0   \n",
       "1      53    1   0       140   203    1        0      155      1      3.1   \n",
       "2      70    1   0       145   174    0        1      125      1      2.6   \n",
       "3      61    1   0       148   203    0        1      161      0      0.0   \n",
       "4      62    0   0       138   294    1        1      106      0      1.9   \n",
       "...   ...  ...  ..       ...   ...  ...      ...      ...    ...      ...   \n",
       "1015   58    1   0       128   216    0        0      131      1      2.2   \n",
       "1016   65    1   3       138   282    1        0      174      0      1.4   \n",
       "1017   53    1   0       123   282    0        1       95      1      2.0   \n",
       "1018   41    1   0       110   172    0        0      158      0      0.0   \n",
       "1019   47    1   0       112   204    0        1      143      0      0.1   \n",
       "\n",
       "      slope  ca  thal  target  \n",
       "0         2   2     3       0  \n",
       "1         0   0     3       0  \n",
       "2         0   0     3       0  \n",
       "3         2   1     3       0  \n",
       "4         1   3     2       0  \n",
       "...     ...  ..   ...     ...  \n",
       "1015      1   3     3       0  \n",
       "1016      1   1     2       0  \n",
       "1017      1   2     3       0  \n",
       "1018      2   0     3       0  \n",
       "1019      2   0     2       1  \n",
       "\n",
       "[1020 rows x 14 columns]"
      ]
     },
     "execution_count": 2,
     "metadata": {},
     "output_type": "execute_result"
    }
   ],
   "source": [
    "import pandas as pd\n",
    "data=pd.read_csv(r\"Downloads/heart.csv\")\n",
    "data.head(-5)"
   ]
  },
  {
   "cell_type": "markdown",
   "id": "a7e86e30",
   "metadata": {},
   "source": [
    "This dataset is not loaded in memory"
   ]
  },
  {
   "cell_type": "markdown",
   "id": "f137ec47",
   "metadata": {},
   "source": [
    "# Data Preparation"
   ]
  },
  {
   "cell_type": "code",
   "execution_count": 3,
   "id": "1972b06d",
   "metadata": {
    "ExecuteTime": {
     "end_time": "2022-09-15T19:22:28.260414Z",
     "start_time": "2022-09-15T19:22:28.244979Z"
    }
   },
   "outputs": [
    {
     "data": {
      "text/plain": [
       "(1025, 14)"
      ]
     },
     "execution_count": 3,
     "metadata": {},
     "output_type": "execute_result"
    }
   ],
   "source": [
    "data.shape"
   ]
  },
  {
   "cell_type": "markdown",
   "id": "90869196",
   "metadata": {},
   "source": [
    "we have 1025 rows and 14 columns"
   ]
  },
  {
   "cell_type": "code",
   "execution_count": 4,
   "id": "458dcca6",
   "metadata": {
    "ExecuteTime": {
     "end_time": "2022-09-15T19:22:29.937482Z",
     "start_time": "2022-09-15T19:22:29.919636Z"
    }
   },
   "outputs": [
    {
     "data": {
      "text/plain": [
       "Index(['age', 'sex', 'cp', 'trestbps', 'chol', 'fbs', 'restecg', 'thalach',\n",
       "       'exang', 'oldpeak', 'slope', 'ca', 'thal', 'target'],\n",
       "      dtype='object')"
      ]
     },
     "execution_count": 4,
     "metadata": {},
     "output_type": "execute_result"
    }
   ],
   "source": [
    "data.columns"
   ]
  },
  {
   "cell_type": "markdown",
   "id": "1089f88f",
   "metadata": {
    "ExecuteTime": {
     "end_time": "2022-09-04T22:06:05.873137Z",
     "start_time": "2022-09-04T22:06:05.851208Z"
    }
   },
   "source": [
    "age : age of patient ,\n",
    "sex : sex of patient: 0 = female; 1 = male , \n",
    "cp : chest_pain_type(4 values) , \n",
    "trestbps : resting_blood_pressure , \n",
    "cholestoral : serum cholestoral in mg/dl : milligramme de glucose par décilitre de sang , \n",
    "fbs : fasting_blood_sugar , \n",
    "restecg : resting_electrocardiographic(values 0,1,2) , \n",
    "thalach : maximum heart rate achieved , \n",
    "exang : exercise_induced_angina , \n",
    "oldpeak : ST depression induced by exercise relative to rest , \n",
    "slope : slope of the peak exercise ST segment , \n",
    "ca : number of major vessels (0-3) colored by fluoroscopy  , \n",
    "thal : thal: 3 = normal; 6 = fixed defect; 7 = reversable defect "
   ]
  },
  {
   "cell_type": "markdown",
   "id": "23beb5c6",
   "metadata": {},
   "source": [
    "Angina is chest pain or pressure caused by \n",
    "decreased blood flow to the heart. Pain may \n",
    "also be felt in your arms, jaw or upper back. \n",
    "The pain is a signal that your heart is not \n",
    "getting enough oxygen. It is a sign that you \n",
    "need treatment to prevent a heart attack"
   ]
  },
  {
   "cell_type": "markdown",
   "id": "22327d8c",
   "metadata": {},
   "source": [
    "ST depression is reprensentative of ischemia which means lack of oxygen nutrients going to a particular area that doesn't go to the entire width of the ventricle "
   ]
  },
  {
   "cell_type": "markdown",
   "id": "c9afde30",
   "metadata": {},
   "source": [
    "Thalassemia  is an inherited blood disorder that causes your body to have less hemoglobin than normal. Hemoglobin enables red blood cells to carry oxygen. Thalassemia can cause anemia, leaving you exhausted."
   ]
  },
  {
   "cell_type": "code",
   "execution_count": 5,
   "id": "43252fc0",
   "metadata": {
    "ExecuteTime": {
     "end_time": "2022-09-15T19:22:33.281744Z",
     "start_time": "2022-09-15T19:22:33.264414Z"
    }
   },
   "outputs": [
    {
     "name": "stdout",
     "output_type": "stream",
     "text": [
      "['age', 'sex', 'chest_pain_type', 'resting_blood_pressure', 'cholesterol', 'fasting_blood_sugar', 'resting_electrocardiographic', 'maximum_heart_rate', 'exercise_induced_angina', 'ST_depression', 'slope_peak_exercise_ST', 'number_of_major_vessels', 'thal', 'target']\n"
     ]
    }
   ],
   "source": [
    "data.rename(columns={\n",
    "        'cp':'chest_pain_type', 'trestbps':'resting_blood_pressure',\n",
    "        'chol':'cholesterol','fbs':'fasting_blood_sugar',\n",
    "        'restecg':'resting_electrocardiographic','thalach':'maximum_heart_rate',\n",
    "        'exang':'exercise_induced_angina','oldpeak':'ST_depression',\n",
    "        'slope':'slope_peak_exercise_ST','ca':'number_of_major_vessels'},\n",
    "    inplace=True)\n",
    "\n",
    "print(data.columns.tolist())"
   ]
  },
  {
   "cell_type": "markdown",
   "id": "10d5ccf1",
   "metadata": {},
   "source": [
    "#Update categorical attribute values (features) for better readability and plotting\n",
    "\n",
    "sex--->0:female\n",
    "1:male\n",
    " , \n",
    "chest_pain_type--->0:typical angina\n",
    "1:atypical angina\n",
    "2:non-anginal\n",
    "3:asymptomatic , \n",
    "    \n",
    "fasting_blood_sugar--->0:> 120 mg/dl\n",
    "1:< 120 mg/dl , \n",
    "    \n",
    "resting_electrocardiographic--->0:normal\n",
    "1:ST-T wave abnormality\n",
    "2:ventricular hypertrophy , \n",
    "    \n",
    "exercise_induced_angina--->0:no\n",
    "1:yes , \n",
    "    \n",
    "slope_peak_exercise_ST--->0:upsloping\n",
    "1:flat\n",
    "2:downsloping , \n",
    "    \n",
    "thal--->0:normal 0\n",
    "1:normal 1\n",
    "2:fixed defect\n",
    "3:reversable defect , \n",
    "    \n",
    "target--->0:no disease\n",
    "1:disease"
   ]
  },
  {
   "cell_type": "code",
   "execution_count": 6,
   "id": "fed7cb8b",
   "metadata": {
    "ExecuteTime": {
     "end_time": "2022-09-15T19:22:34.874289Z",
     "start_time": "2022-09-15T19:22:34.793559Z"
    }
   },
   "outputs": [
    {
     "data": {
      "text/html": [
       "<div>\n",
       "<style scoped>\n",
       "    .dataframe tbody tr th:only-of-type {\n",
       "        vertical-align: middle;\n",
       "    }\n",
       "\n",
       "    .dataframe tbody tr th {\n",
       "        vertical-align: top;\n",
       "    }\n",
       "\n",
       "    .dataframe thead th {\n",
       "        text-align: right;\n",
       "    }\n",
       "</style>\n",
       "<table border=\"1\" class=\"dataframe\">\n",
       "  <thead>\n",
       "    <tr style=\"text-align: right;\">\n",
       "      <th></th>\n",
       "      <th>age</th>\n",
       "      <th>sex</th>\n",
       "      <th>chest_pain_type</th>\n",
       "      <th>resting_blood_pressure</th>\n",
       "      <th>cholesterol</th>\n",
       "      <th>fasting_blood_sugar</th>\n",
       "      <th>resting_electrocardiographic</th>\n",
       "      <th>maximum_heart_rate</th>\n",
       "      <th>exercise_induced_angina</th>\n",
       "      <th>ST_depression</th>\n",
       "      <th>slope_peak_exercise_ST</th>\n",
       "      <th>number_of_major_vessels</th>\n",
       "      <th>thal</th>\n",
       "      <th>target</th>\n",
       "    </tr>\n",
       "  </thead>\n",
       "  <tbody>\n",
       "    <tr>\n",
       "      <th>0</th>\n",
       "      <td>52</td>\n",
       "      <td>male</td>\n",
       "      <td>typical angina</td>\n",
       "      <td>125</td>\n",
       "      <td>212</td>\n",
       "      <td>&gt; 120 mg/dl</td>\n",
       "      <td>ST-T wave abnormality</td>\n",
       "      <td>168</td>\n",
       "      <td>no</td>\n",
       "      <td>1.0</td>\n",
       "      <td>downsloping</td>\n",
       "      <td>2</td>\n",
       "      <td>reversable defect</td>\n",
       "      <td>no disease</td>\n",
       "    </tr>\n",
       "    <tr>\n",
       "      <th>1</th>\n",
       "      <td>53</td>\n",
       "      <td>male</td>\n",
       "      <td>typical angina</td>\n",
       "      <td>140</td>\n",
       "      <td>203</td>\n",
       "      <td>&lt; 120 mg/dl</td>\n",
       "      <td>normal</td>\n",
       "      <td>155</td>\n",
       "      <td>yes</td>\n",
       "      <td>3.1</td>\n",
       "      <td>upsloping</td>\n",
       "      <td>0</td>\n",
       "      <td>reversable defect</td>\n",
       "      <td>no disease</td>\n",
       "    </tr>\n",
       "    <tr>\n",
       "      <th>2</th>\n",
       "      <td>70</td>\n",
       "      <td>male</td>\n",
       "      <td>typical angina</td>\n",
       "      <td>145</td>\n",
       "      <td>174</td>\n",
       "      <td>&gt; 120 mg/dl</td>\n",
       "      <td>ST-T wave abnormality</td>\n",
       "      <td>125</td>\n",
       "      <td>yes</td>\n",
       "      <td>2.6</td>\n",
       "      <td>upsloping</td>\n",
       "      <td>0</td>\n",
       "      <td>reversable defect</td>\n",
       "      <td>no disease</td>\n",
       "    </tr>\n",
       "    <tr>\n",
       "      <th>3</th>\n",
       "      <td>61</td>\n",
       "      <td>male</td>\n",
       "      <td>typical angina</td>\n",
       "      <td>148</td>\n",
       "      <td>203</td>\n",
       "      <td>&gt; 120 mg/dl</td>\n",
       "      <td>ST-T wave abnormality</td>\n",
       "      <td>161</td>\n",
       "      <td>no</td>\n",
       "      <td>0.0</td>\n",
       "      <td>downsloping</td>\n",
       "      <td>1</td>\n",
       "      <td>reversable defect</td>\n",
       "      <td>no disease</td>\n",
       "    </tr>\n",
       "    <tr>\n",
       "      <th>4</th>\n",
       "      <td>62</td>\n",
       "      <td>female</td>\n",
       "      <td>typical angina</td>\n",
       "      <td>138</td>\n",
       "      <td>294</td>\n",
       "      <td>&lt; 120 mg/dl</td>\n",
       "      <td>ST-T wave abnormality</td>\n",
       "      <td>106</td>\n",
       "      <td>no</td>\n",
       "      <td>1.9</td>\n",
       "      <td>flat</td>\n",
       "      <td>3</td>\n",
       "      <td>fixed defect</td>\n",
       "      <td>no disease</td>\n",
       "    </tr>\n",
       "  </tbody>\n",
       "</table>\n",
       "</div>"
      ],
      "text/plain": [
       "   age     sex chest_pain_type  resting_blood_pressure  cholesterol  \\\n",
       "0   52    male  typical angina                     125          212   \n",
       "1   53    male  typical angina                     140          203   \n",
       "2   70    male  typical angina                     145          174   \n",
       "3   61    male  typical angina                     148          203   \n",
       "4   62  female  typical angina                     138          294   \n",
       "\n",
       "  fasting_blood_sugar resting_electrocardiographic  maximum_heart_rate  \\\n",
       "0         > 120 mg/dl        ST-T wave abnormality                 168   \n",
       "1         < 120 mg/dl                       normal                 155   \n",
       "2         > 120 mg/dl        ST-T wave abnormality                 125   \n",
       "3         > 120 mg/dl        ST-T wave abnormality                 161   \n",
       "4         < 120 mg/dl        ST-T wave abnormality                 106   \n",
       "\n",
       "  exercise_induced_angina  ST_depression slope_peak_exercise_ST  \\\n",
       "0                      no            1.0            downsloping   \n",
       "1                     yes            3.1              upsloping   \n",
       "2                     yes            2.6              upsloping   \n",
       "3                      no            0.0            downsloping   \n",
       "4                      no            1.9                   flat   \n",
       "\n",
       "   number_of_major_vessels               thal      target  \n",
       "0                        2  reversable defect  no disease  \n",
       "1                        0  reversable defect  no disease  \n",
       "2                        0  reversable defect  no disease  \n",
       "3                        1  reversable defect  no disease  \n",
       "4                        3       fixed defect  no disease  "
      ]
     },
     "execution_count": 6,
     "metadata": {},
     "output_type": "execute_result"
    }
   ],
   "source": [
    "data['sex'] = data['sex'].map({0:'female', 1:'male'})\n",
    "data['chest_pain_type'] = data['chest_pain_type'].map({\n",
    "        0:'typical angina', 1:'atypical angina',\n",
    "        2:'non-anginal',    3:'asymptomatic'})\n",
    "data['fasting_blood_sugar'] = data['fasting_blood_sugar'].map({\n",
    "        0:'> 120 mg/dl', 1:'< 120 mg/dl'})\n",
    "data['resting_electrocardiographic'] = data['resting_electrocardiographic'].map({\n",
    "        0:'normal', 1:'ST-T wave abnormality', 2:'ventricular hypertrophy'})\n",
    "data['exercise_induced_angina'] = data['exercise_induced_angina'].map({\n",
    "        0:'no', 1:'yes'})\n",
    "data['slope_peak_exercise_ST'] = data['slope_peak_exercise_ST'].map({\n",
    "        0:'upsloping', 1:'flat', 2:'downsloping'})\n",
    "data['thal'] = data['thal'].map({\n",
    "        0:'normal 0',     1:'normal 1',\n",
    "        2:'fixed defect', 3:'reversable defect'})\n",
    "data['target'] = data['target'].map({0:'no disease', 1:'disease'})\n",
    "\n",
    "data.head()\n"
   ]
  },
  {
   "cell_type": "code",
   "execution_count": 7,
   "id": "2e60f4ca",
   "metadata": {
    "ExecuteTime": {
     "end_time": "2022-09-15T19:22:35.894322Z",
     "start_time": "2022-09-15T19:22:35.861453Z"
    }
   },
   "outputs": [
    {
     "name": "stdout",
     "output_type": "stream",
     "text": [
      "<class 'pandas.core.frame.DataFrame'>\n",
      "RangeIndex: 1025 entries, 0 to 1024\n",
      "Data columns (total 14 columns):\n",
      " #   Column                        Non-Null Count  Dtype  \n",
      "---  ------                        --------------  -----  \n",
      " 0   age                           1025 non-null   int64  \n",
      " 1   sex                           1025 non-null   object \n",
      " 2   chest_pain_type               1025 non-null   object \n",
      " 3   resting_blood_pressure        1025 non-null   int64  \n",
      " 4   cholesterol                   1025 non-null   int64  \n",
      " 5   fasting_blood_sugar           1025 non-null   object \n",
      " 6   resting_electrocardiographic  1025 non-null   object \n",
      " 7   maximum_heart_rate            1025 non-null   int64  \n",
      " 8   exercise_induced_angina       1025 non-null   object \n",
      " 9   ST_depression                 1025 non-null   float64\n",
      " 10  slope_peak_exercise_ST        1025 non-null   object \n",
      " 11  number_of_major_vessels       1025 non-null   int64  \n",
      " 12  thal                          1025 non-null   object \n",
      " 13  target                        1025 non-null   object \n",
      "dtypes: float64(1), int64(5), object(8)\n",
      "memory usage: 112.2+ KB\n"
     ]
    }
   ],
   "source": [
    "#getting some info about the data \n",
    "data.info()"
   ]
  },
  {
   "cell_type": "markdown",
   "id": "5e5e5456",
   "metadata": {},
   "source": [
    "we have 14 columns :  6 numerical features and 8 categorical features "
   ]
  },
  {
   "cell_type": "code",
   "execution_count": 8,
   "id": "87c50743",
   "metadata": {
    "ExecuteTime": {
     "end_time": "2022-09-15T19:22:37.538016Z",
     "start_time": "2022-09-15T19:22:37.507108Z"
    }
   },
   "outputs": [
    {
     "data": {
      "text/plain": [
       "age                             0\n",
       "sex                             0\n",
       "chest_pain_type                 0\n",
       "resting_blood_pressure          0\n",
       "cholesterol                     0\n",
       "fasting_blood_sugar             0\n",
       "resting_electrocardiographic    0\n",
       "maximum_heart_rate              0\n",
       "exercise_induced_angina         0\n",
       "ST_depression                   0\n",
       "slope_peak_exercise_ST          0\n",
       "number_of_major_vessels         0\n",
       "thal                            0\n",
       "target                          0\n",
       "dtype: int64"
      ]
     },
     "execution_count": 8,
     "metadata": {},
     "output_type": "execute_result"
    }
   ],
   "source": [
    "#checking for missing values\n",
    "data.isnull().sum()"
   ]
  },
  {
   "cell_type": "markdown",
   "id": "35c551b1",
   "metadata": {
    "ExecuteTime": {
     "end_time": "2022-09-04T23:04:00.983871Z",
     "start_time": "2022-09-04T23:04:00.963965Z"
    }
   },
   "source": [
    "we don't have  missing values "
   ]
  },
  {
   "cell_type": "code",
   "execution_count": 9,
   "id": "feada20a",
   "metadata": {
    "ExecuteTime": {
     "end_time": "2022-09-15T19:22:39.105328Z",
     "start_time": "2022-09-15T19:22:39.044331Z"
    }
   },
   "outputs": [
    {
     "data": {
      "text/html": [
       "<div>\n",
       "<style scoped>\n",
       "    .dataframe tbody tr th:only-of-type {\n",
       "        vertical-align: middle;\n",
       "    }\n",
       "\n",
       "    .dataframe tbody tr th {\n",
       "        vertical-align: top;\n",
       "    }\n",
       "\n",
       "    .dataframe thead th {\n",
       "        text-align: right;\n",
       "    }\n",
       "</style>\n",
       "<table border=\"1\" class=\"dataframe\">\n",
       "  <thead>\n",
       "    <tr style=\"text-align: right;\">\n",
       "      <th></th>\n",
       "      <th>age</th>\n",
       "      <th>resting_blood_pressure</th>\n",
       "      <th>cholesterol</th>\n",
       "      <th>maximum_heart_rate</th>\n",
       "      <th>ST_depression</th>\n",
       "      <th>number_of_major_vessels</th>\n",
       "    </tr>\n",
       "  </thead>\n",
       "  <tbody>\n",
       "    <tr>\n",
       "      <th>count</th>\n",
       "      <td>1025.000000</td>\n",
       "      <td>1025.000000</td>\n",
       "      <td>1025.00000</td>\n",
       "      <td>1025.000000</td>\n",
       "      <td>1025.000000</td>\n",
       "      <td>1025.000000</td>\n",
       "    </tr>\n",
       "    <tr>\n",
       "      <th>mean</th>\n",
       "      <td>54.434146</td>\n",
       "      <td>131.611707</td>\n",
       "      <td>246.00000</td>\n",
       "      <td>149.114146</td>\n",
       "      <td>1.071512</td>\n",
       "      <td>0.754146</td>\n",
       "    </tr>\n",
       "    <tr>\n",
       "      <th>std</th>\n",
       "      <td>9.072290</td>\n",
       "      <td>17.516718</td>\n",
       "      <td>51.59251</td>\n",
       "      <td>23.005724</td>\n",
       "      <td>1.175053</td>\n",
       "      <td>1.030798</td>\n",
       "    </tr>\n",
       "    <tr>\n",
       "      <th>min</th>\n",
       "      <td>29.000000</td>\n",
       "      <td>94.000000</td>\n",
       "      <td>126.00000</td>\n",
       "      <td>71.000000</td>\n",
       "      <td>0.000000</td>\n",
       "      <td>0.000000</td>\n",
       "    </tr>\n",
       "    <tr>\n",
       "      <th>25%</th>\n",
       "      <td>48.000000</td>\n",
       "      <td>120.000000</td>\n",
       "      <td>211.00000</td>\n",
       "      <td>132.000000</td>\n",
       "      <td>0.000000</td>\n",
       "      <td>0.000000</td>\n",
       "    </tr>\n",
       "    <tr>\n",
       "      <th>50%</th>\n",
       "      <td>56.000000</td>\n",
       "      <td>130.000000</td>\n",
       "      <td>240.00000</td>\n",
       "      <td>152.000000</td>\n",
       "      <td>0.800000</td>\n",
       "      <td>0.000000</td>\n",
       "    </tr>\n",
       "    <tr>\n",
       "      <th>75%</th>\n",
       "      <td>61.000000</td>\n",
       "      <td>140.000000</td>\n",
       "      <td>275.00000</td>\n",
       "      <td>166.000000</td>\n",
       "      <td>1.800000</td>\n",
       "      <td>1.000000</td>\n",
       "    </tr>\n",
       "    <tr>\n",
       "      <th>max</th>\n",
       "      <td>77.000000</td>\n",
       "      <td>200.000000</td>\n",
       "      <td>564.00000</td>\n",
       "      <td>202.000000</td>\n",
       "      <td>6.200000</td>\n",
       "      <td>4.000000</td>\n",
       "    </tr>\n",
       "  </tbody>\n",
       "</table>\n",
       "</div>"
      ],
      "text/plain": [
       "               age  resting_blood_pressure  cholesterol  maximum_heart_rate  \\\n",
       "count  1025.000000             1025.000000   1025.00000         1025.000000   \n",
       "mean     54.434146              131.611707    246.00000          149.114146   \n",
       "std       9.072290               17.516718     51.59251           23.005724   \n",
       "min      29.000000               94.000000    126.00000           71.000000   \n",
       "25%      48.000000              120.000000    211.00000          132.000000   \n",
       "50%      56.000000              130.000000    240.00000          152.000000   \n",
       "75%      61.000000              140.000000    275.00000          166.000000   \n",
       "max      77.000000              200.000000    564.00000          202.000000   \n",
       "\n",
       "       ST_depression  number_of_major_vessels  \n",
       "count    1025.000000              1025.000000  \n",
       "mean        1.071512                 0.754146  \n",
       "std         1.175053                 1.030798  \n",
       "min         0.000000                 0.000000  \n",
       "25%         0.000000                 0.000000  \n",
       "50%         0.800000                 0.000000  \n",
       "75%         1.800000                 1.000000  \n",
       "max         6.200000                 4.000000  "
      ]
     },
     "execution_count": 9,
     "metadata": {},
     "output_type": "execute_result"
    }
   ],
   "source": [
    "#statistical measures about the data \n",
    "data.describe()"
   ]
  },
  {
   "cell_type": "markdown",
   "id": "eae8fa9e",
   "metadata": {
    "ExecuteTime": {
     "end_time": "2022-09-05T01:45:46.136148Z",
     "start_time": "2022-09-05T01:45:46.116281Z"
    }
   },
   "source": [
    "count : number of data points we have in each column , \n",
    "Mean :  the mean value for all columns , \n",
    "std : standard deviation measures the dispersion of a dataset relative to its mean. If the data points are further from the mean, there is a higher deviation within the data set. Thus, the more the data is spread out, the higher its standard deviation is.It is calculated as the square root of the variance.\n",
    "\n",
    " \n",
    "min : minimum value for all columns , \n",
    "max : maximum value for all columns .\n",
    "    \n",
    "    "
   ]
  },
  {
   "cell_type": "markdown",
   "id": "4deb7a38",
   "metadata": {},
   "source": [
    "# Data Visualization"
   ]
  },
  {
   "cell_type": "code",
   "execution_count": 10,
   "id": "caaed493",
   "metadata": {
    "ExecuteTime": {
     "end_time": "2022-09-15T19:22:45.877081Z",
     "start_time": "2022-09-15T19:22:42.055133Z"
    }
   },
   "outputs": [
    {
     "data": {
      "image/png": "[encoded data removed]",
      "text/plain": [
       "<Figure size 432x288 with 1 Axes>"
      ]
     },
     "metadata": {
      "needs_background": "light"
     },
     "output_type": "display_data"
    }
   ],
   "source": [
    "import matplotlib.pyplot as plt \n",
    "import seaborn as sns \n",
    "sns.countplot(x=\"target\", data=data, palette=\"bwr\")\n",
    "plt.show()"
   ]
  },
  {
   "cell_type": "markdown",
   "id": "ec06da3e",
   "metadata": {},
   "source": [
    "The distribution is almost similar : we have over 520 persons that have heart disease and 499 ones not diseased "
   ]
  },
  {
   "cell_type": "code",
   "execution_count": 11,
   "id": "7bda2766",
   "metadata": {
    "ExecuteTime": {
     "end_time": "2022-09-15T19:22:47.698938Z",
     "start_time": "2022-09-15T19:22:45.977229Z"
    }
   },
   "outputs": [
    {
     "data": {
      "image/png": "[encoded data removed]",
      "text/plain": [
       "<Figure size 1440x432 with 1 Axes>"
      ]
     },
     "metadata": {
      "needs_background": "light"
     },
     "output_type": "display_data"
    }
   ],
   "source": [
    "pd.crosstab(data.age,data.target).plot(kind=\"bar\",figsize=(20,6))\n",
    "plt.title('Heart Disease Frequency for Ages')\n",
    "plt.xlabel('Age')\n",
    "plt.ylabel('Frequency')\n",
    "plt.savefig('heartDisease And Ages.png')\n",
    "plt.show()"
   ]
  },
  {
   "cell_type": "markdown",
   "id": "293404e2",
   "metadata": {},
   "source": [
    "We notice that people aged between 29 and 54 are almost not diseased while the ones aged more than 54 are more likely to have heart disease"
   ]
  },
  {
   "cell_type": "code",
   "execution_count": 12,
   "id": "af4c36ba",
   "metadata": {
    "ExecuteTime": {
     "end_time": "2022-09-15T19:22:48.215576Z",
     "start_time": "2022-09-15T19:22:47.798955Z"
    }
   },
   "outputs": [
    {
     "data": {
      "image/png": "[encoded data removed]",
      "text/plain": [
       "<Figure size 1080x432 with 1 Axes>"
      ]
     },
     "metadata": {
      "needs_background": "light"
     },
     "output_type": "display_data"
    }
   ],
   "source": [
    "pd.crosstab(data.sex,data.target).plot(kind=\"bar\",figsize=(15,6),color=['blue','#AA1111' ])\n",
    "plt.title('Heart Disease Frequency for Sex')\n",
    "plt.xlabel('Sex (0 = Female, 1 = Male)')\n",
    "plt.xticks(rotation=0)\n",
    "plt.legend([\"Haven't Disease\", \"Have Disease\"])\n",
    "plt.ylabel('Frequency')\n",
    "plt.show()"
   ]
  },
  {
   "cell_type": "markdown",
   "id": "be43cf1a",
   "metadata": {},
   "source": [
    "Males are more prone to heart disease"
   ]
  },
  {
   "cell_type": "code",
   "execution_count": 13,
   "id": "66d6da2e",
   "metadata": {
    "ExecuteTime": {
     "end_time": "2022-09-15T19:22:49.835287Z",
     "start_time": "2022-09-15T19:22:49.443418Z"
    }
   },
   "outputs": [
    {
     "data": {
      "image/png": "[encoded data removed]",
      "text/plain": [
       "<Figure size 1080x432 with 1 Axes>"
      ]
     },
     "metadata": {
      "needs_background": "light"
     },
     "output_type": "display_data"
    }
   ],
   "source": [
    "import pandas as pd  \n",
    "pd.crosstab(data.fasting_blood_sugar,data.target).plot(kind=\"bar\",figsize=(15,6),color=['#FFC300','#581845' ])\n",
    "plt.title('Heart Disease Frequency According To FBS')\n",
    "plt.xlabel('FBS - (Fasting Blood Sugar > 120 mg/dl) (1 = true; 0 = false)')\n",
    "plt.xticks(rotation = 0)\n",
    "plt.legend([\"Haven't Disease\", \"Have Disease\"])\n",
    "plt.ylabel('Frequency of Disease or Not')\n",
    "plt.show()"
   ]
  },
  {
   "cell_type": "markdown",
   "id": "ed1cf876",
   "metadata": {},
   "source": [
    "fasting blood sugar is not a good indicator of heart disease since healthy and unhealthy population distribution is almost the same"
   ]
  },
  {
   "cell_type": "code",
   "execution_count": 14,
   "id": "c271a6d4",
   "metadata": {
    "ExecuteTime": {
     "end_time": "2022-09-15T19:22:52.575619Z",
     "start_time": "2022-09-15T19:22:52.067872Z"
    }
   },
   "outputs": [
    {
     "data": {
      "image/png": "[encoded data removed]",
      "text/plain": [
       "<Figure size 576x432 with 1 Axes>"
      ]
     },
     "metadata": {
      "needs_background": "light"
     },
     "output_type": "display_data"
    }
   ],
   "source": [
    "plt.figure(figsize=(8,6))\n",
    "sns.scatterplot(x='cholesterol',y='thal',data=data,hue='target')\n",
    "plt.show()"
   ]
  },
  {
   "cell_type": "markdown",
   "id": "e4d195c9",
   "metadata": {},
   "source": [
    "patients who have a fixed defect are diseased comparing to ones who have reversable defect or the normal ones"
   ]
  },
  {
   "cell_type": "code",
   "execution_count": 15,
   "id": "bd858ff6",
   "metadata": {
    "ExecuteTime": {
     "end_time": "2022-09-15T19:22:54.372604Z",
     "start_time": "2022-09-15T19:22:53.867210Z"
    },
    "scrolled": false
   },
   "outputs": [
    {
     "data": {
      "image/png": "[encoded data removed]",
      "text/plain": [
       "<Figure size 576x432 with 1 Axes>"
      ]
     },
     "metadata": {
      "needs_background": "light"
     },
     "output_type": "display_data"
    }
   ],
   "source": [
    "plt.figure(figsize=(8,6))\n",
    "sns.scatterplot(x='thal',y='resting_blood_pressure',data=data,hue='target')\n",
    "plt.show()"
   ]
  },
  {
   "cell_type": "markdown",
   "id": "da8439ac",
   "metadata": {},
   "source": [
    "patients who have a fixed defect are diseased comparing to ones who have reversable defect or the normal ones"
   ]
  },
  {
   "cell_type": "code",
   "execution_count": 16,
   "id": "6bbacf61",
   "metadata": {
    "ExecuteTime": {
     "end_time": "2022-09-15T19:23:01.982908Z",
     "start_time": "2022-09-15T19:23:00.951602Z"
    }
   },
   "outputs": [
    {
     "data": {
      "text/plain": [
       "<AxesSubplot:title={'center':'Heart Disease CORRELATION'}>"
      ]
     },
     "execution_count": 16,
     "metadata": {},
     "output_type": "execute_result"
    },
    {
     "data": {
      "image/png": "[encoded data removed]",
      "text/plain": [
       "<Figure size 1440x1440 with 2 Axes>"
      ]
     },
     "metadata": {
      "needs_background": "light"
     },
     "output_type": "display_data"
    }
   ],
   "source": [
    "#Heatmap\n",
    "dataCorr = data.corr()\n",
    "plt.figure(figsize=(20,20))\n",
    "plt.title('Heart Disease CORRELATION', fontsize=14)\n",
    "sns.heatmap(dataCorr, annot=True, fmt='.2f', square=True, cmap = 'Blues_r')"
   ]
  },
  {
   "cell_type": "markdown",
   "id": "bb32f55a",
   "metadata": {},
   "source": [
    "ST_depression and number_of_major_vessels /age and resting_blood_pressure /number_of_major_vessels and age are the most correlated variables"
   ]
  },
  {
   "cell_type": "markdown",
   "id": "a1b511e9",
   "metadata": {},
   "source": [
    "# MODEL DEVELOPMENT\n",
    "\n"
   ]
  },
  {
   "cell_type": "markdown",
   "id": "ad506241",
   "metadata": {},
   "source": [
    "## Implementing the model\n",
    "\n"
   ]
  },
  {
   "cell_type": "code",
   "execution_count": 19,
   "id": "1e6e3467",
   "metadata": {
    "ExecuteTime": {
     "end_time": "2022-09-15T16:57:22.918602Z",
     "start_time": "2022-09-15T16:57:22.897083Z"
    }
   },
   "outputs": [
    {
     "data": {
      "text/plain": [
       "age                             0\n",
       "sex                             0\n",
       "chest_pain_type                 0\n",
       "resting_blood_pressure          0\n",
       "cholesterol                     0\n",
       "fasting_blood_sugar             0\n",
       "resting_electrocardiographic    0\n",
       "maximum_heart_rate              0\n",
       "exercise_induced_angina         0\n",
       "ST_depression                   0\n",
       "slope_peak_exercise_ST          0\n",
       "number_of_major_vessels         0\n",
       "thal                            0\n",
       "target                          0\n",
       "dtype: int64"
      ]
     },
     "execution_count": 19,
     "metadata": {},
     "output_type": "execute_result"
    }
   ],
   "source": [
    "data.isnull().sum()"
   ]
  },
  {
   "cell_type": "markdown",
   "id": "6b9728e1",
   "metadata": {},
   "source": [
    "train test split"
   ]
  },
  {
   "cell_type": "code",
   "execution_count": 20,
   "id": "778d6b5a",
   "metadata": {
    "ExecuteTime": {
     "end_time": "2022-09-15T16:57:26.535012Z",
     "start_time": "2022-09-15T16:57:25.597045Z"
    }
   },
   "outputs": [],
   "source": [
    "# divide data into train and test\n",
    "from sklearn.model_selection import train_test_split\n",
    "#features extraction\n",
    "x = data[['age','resting_blood_pressure','cholesterol','maximum_heart_rate','ST_depression','number_of_major_vessels']]\n",
    "y = data['target']\n",
    "x_train, x_test, y_train, y_test = train_test_split( x, y, test_size=0.2, random_state=4)#splitting data with test size of 20%"
   ]
  },
  {
   "cell_type": "markdown",
   "id": "54c2ec5c",
   "metadata": {},
   "source": [
    "## Improving the model"
   ]
  },
  {
   "cell_type": "markdown",
   "id": "b0a93b0e",
   "metadata": {},
   "source": [
    "### Decision Tree"
   ]
  },
  {
   "cell_type": "code",
   "execution_count": 21,
   "id": "f31fb09b",
   "metadata": {
    "ExecuteTime": {
     "end_time": "2022-09-15T16:57:28.887733Z",
     "start_time": "2022-09-15T16:57:28.194960Z"
    }
   },
   "outputs": [
    {
     "name": "stdout",
     "output_type": "stream",
     "text": [
      "score:1.0\n"
     ]
    }
   ],
   "source": [
    "from sklearn import tree   \n",
    "from sklearn.tree import DecisionTreeClassifier\n",
    "from sklearn.tree import DecisionTreeRegressor\n",
    "from sklearn.metrics import accuracy_score\n",
    "#applying tree algorithm\n",
    "d_tree = tree.DecisionTreeClassifier()  \n",
    "d_tree.fit(x_train, y_train)   #fitting our model\n",
    "y_pred=d_tree.predict(x_test)   # evaluating our model\n",
    "print(\"score:{}\".format(accuracy_score(y_test, y_pred)))#print our accuracy"
   ]
  },
  {
   "cell_type": "markdown",
   "id": "12b12a67",
   "metadata": {},
   "source": [
    "We  got a classification rate of 100%, considered as the best accuracy"
   ]
  },
  {
   "cell_type": "code",
   "execution_count": 22,
   "id": "689abdf7",
   "metadata": {
    "ExecuteTime": {
     "end_time": "2022-09-15T16:57:29.955484Z",
     "start_time": "2022-09-15T16:57:29.933661Z"
    }
   },
   "outputs": [
    {
     "data": {
      "text/html": [
       "<div>\n",
       "<style scoped>\n",
       "    .dataframe tbody tr th:only-of-type {\n",
       "        vertical-align: middle;\n",
       "    }\n",
       "\n",
       "    .dataframe tbody tr th {\n",
       "        vertical-align: top;\n",
       "    }\n",
       "\n",
       "    .dataframe thead th {\n",
       "        text-align: right;\n",
       "    }\n",
       "</style>\n",
       "<table border=\"1\" class=\"dataframe\">\n",
       "  <thead>\n",
       "    <tr style=\"text-align: right;\">\n",
       "      <th>col_0</th>\n",
       "      <th>disease</th>\n",
       "      <th>no disease</th>\n",
       "    </tr>\n",
       "    <tr>\n",
       "      <th>target</th>\n",
       "      <th></th>\n",
       "      <th></th>\n",
       "    </tr>\n",
       "  </thead>\n",
       "  <tbody>\n",
       "    <tr>\n",
       "      <th>disease</th>\n",
       "      <td>98</td>\n",
       "      <td>0</td>\n",
       "    </tr>\n",
       "    <tr>\n",
       "      <th>no disease</th>\n",
       "      <td>0</td>\n",
       "      <td>107</td>\n",
       "    </tr>\n",
       "  </tbody>\n",
       "</table>\n",
       "</div>"
      ],
      "text/plain": [
       "col_0       disease  no disease\n",
       "target                         \n",
       "disease          98           0\n",
       "no disease        0         107"
      ]
     },
     "execution_count": 22,
     "metadata": {},
     "output_type": "execute_result"
    }
   ],
   "source": [
    "#Confusion matrix of decision tree\n",
    "cm = pd.crosstab(y_test, y_pred)\n",
    "cm"
   ]
  },
  {
   "cell_type": "markdown",
   "id": "4a29969d",
   "metadata": {
    "ExecuteTime": {
     "end_time": "2022-09-14T13:25:55.602103Z",
     "start_time": "2022-09-14T13:25:21.571921Z"
    }
   },
   "source": [
    "patients who have disease are more than who are not"
   ]
  },
  {
   "cell_type": "code",
   "execution_count": 23,
   "id": "2f4f0e6a",
   "metadata": {
    "ExecuteTime": {
     "end_time": "2022-09-15T16:57:33.151377Z",
     "start_time": "2022-09-15T16:57:33.131172Z"
    }
   },
   "outputs": [
    {
     "name": "stdout",
     "output_type": "stream",
     "text": [
      "              precision    recall  f1-score   support\n",
      "\n",
      "     disease       1.00      1.00      1.00        98\n",
      "  no disease       1.00      1.00      1.00       107\n",
      "\n",
      "    accuracy                           1.00       205\n",
      "   macro avg       1.00      1.00      1.00       205\n",
      "weighted avg       1.00      1.00      1.00       205\n",
      "\n"
     ]
    }
   ],
   "source": [
    "#CLASSIFICATION REPORT\n",
    "from sklearn.metrics import classification_report \n",
    "print(classification_report(y_test,y_pred))"
   ]
  },
  {
   "cell_type": "markdown",
   "id": "981989da",
   "metadata": {},
   "source": [
    "Precision is a measure of the accuracy, provided that a class label has been predicted. It is defined by:\n",
    "precision = True Positive/(True Positive + False Positive)\n",
    "\n",
    "Recall is the true positive rate:\n",
    "recall = True Positive/(True Positive + False Negative)\n",
    "\n",
    "F1-Score is the harmonic average of the precision and recall, where an F1 score reaches its best value at 1 (which represents perfect precision and recall) and its worst at 0\n",
    "F1-Score = 2x (precision x recall)/ (precision + recall)"
   ]
  },
  {
   "cell_type": "markdown",
   "id": "428d81be",
   "metadata": {
    "ExecuteTime": {
     "end_time": "2022-09-14T13:26:07.056987Z",
     "start_time": "2022-09-14T13:26:05.718030Z"
    }
   },
   "source": [
    "### RANDOM FOREST"
   ]
  },
  {
   "cell_type": "code",
   "execution_count": 38,
   "id": "b0e3abac",
   "metadata": {
    "ExecuteTime": {
     "end_time": "2022-09-15T17:38:39.761067Z",
     "start_time": "2022-09-15T17:38:39.725010Z"
    }
   },
   "outputs": [
    {
     "name": "stdout",
     "output_type": "stream",
     "text": [
      "Accuracy: 1.0\n"
     ]
    }
   ],
   "source": [
    "from sklearn.ensemble import RandomForestClassifier\n",
    "from sklearn import metrics\n",
    "rf=RandomForestClassifier(n_estimators=10)  #Creating a random forest with 10 decision trees\n",
    "rf.fit(x_train, y_train)  #Training our model\n",
    "y_pred1=rf.predict(x_test)  #testing our model\n",
    "print(\"Accuracy:\", metrics.accuracy_score(y_test, y_pred))  #Measuring the accuracy of our model"
   ]
  },
  {
   "cell_type": "markdown",
   "id": "8526c9fa",
   "metadata": {},
   "source": [
    "We  got a classification rate of 100%"
   ]
  },
  {
   "cell_type": "code",
   "execution_count": 39,
   "id": "ad5650f0",
   "metadata": {
    "ExecuteTime": {
     "end_time": "2022-09-15T17:39:05.808868Z",
     "start_time": "2022-09-15T17:39:05.665437Z"
    }
   },
   "outputs": [
    {
     "data": {
      "text/plain": [
       "<AxesSubplot:xlabel='Predicted', ylabel='Actual'>"
      ]
     },
     "execution_count": 39,
     "metadata": {},
     "output_type": "execute_result"
    },
    {
     "data": {
      "image/png": "[encoded data removed]",
      "text/plain": [
       "<Figure size 432x288 with 2 Axes>"
      ]
     },
     "metadata": {
      "needs_background": "light"
     },
     "output_type": "display_data"
    }
   ],
   "source": [
    "#Confusion matrix of random forest\n",
    "CM = pd.crosstab(y_test, y_pred1, rownames=['Actual'], colnames=['Predicted'])\n",
    "sns.heatmap(CM, annot=True)"
   ]
  },
  {
   "cell_type": "markdown",
   "id": "f69e6c16",
   "metadata": {
    "ExecuteTime": {
     "end_time": "2022-09-15T17:45:19.661909Z",
     "start_time": "2022-09-15T17:45:19.645984Z"
    }
   },
   "source": [
    "True Positive – model predicted positive class correctly to be a positive class , \n",
    "False Positive – model predicted negative class incorrectly to be a positive class , \n",
    "False Negative – model predicted positive class incorrectly to be the negative class , \n",
    "True Negative – model predicted negative class correctly to be the negative class"
   ]
  },
  {
   "cell_type": "code",
   "execution_count": 40,
   "id": "b5d4c8dd",
   "metadata": {
    "ExecuteTime": {
     "end_time": "2022-09-15T17:39:06.499639Z",
     "start_time": "2022-09-15T17:39:06.476152Z"
    }
   },
   "outputs": [
    {
     "name": "stdout",
     "output_type": "stream",
     "text": [
      "              precision    recall  f1-score   support\n",
      "\n",
      "     disease       0.98      1.00      0.99        98\n",
      "  no disease       1.00      0.98      0.99       107\n",
      "\n",
      "    accuracy                           0.99       205\n",
      "   macro avg       0.99      0.99      0.99       205\n",
      "weighted avg       0.99      0.99      0.99       205\n",
      "\n"
     ]
    }
   ],
   "source": [
    "#CLASSIFICATION REPORT\n",
    "from sklearn.metrics import classification_report \n",
    "print(classification_report(y_test,y_pred1))"
   ]
  },
  {
   "cell_type": "markdown",
   "id": "43ca76cf",
   "metadata": {},
   "source": [
    "### KNN"
   ]
  },
  {
   "cell_type": "code",
   "execution_count": 41,
   "id": "87c44184",
   "metadata": {
    "ExecuteTime": {
     "end_time": "2022-09-15T17:39:08.217798Z",
     "start_time": "2022-09-15T17:39:08.180590Z"
    }
   },
   "outputs": [
    {
     "name": "stdout",
     "output_type": "stream",
     "text": [
      "Acuuracy= 0.6926829268292682\n"
     ]
    }
   ],
   "source": [
    "from sklearn.neighbors import KNeighborsClassifier\n",
    "knn=KNeighborsClassifier(n_neighbors=20) #build our knn classifier\n",
    "knn.fit(x_train,y_train) #Training KNN classifier\n",
    "y_pred=knn.predict(x_test)  #Testing\n",
    "print('Acuuracy=',accuracy_score(y_pred,y_test))"
   ]
  },
  {
   "cell_type": "code",
   "execution_count": 42,
   "id": "c7faa128",
   "metadata": {
    "ExecuteTime": {
     "end_time": "2022-09-15T17:39:09.699556Z",
     "start_time": "2022-09-15T17:39:09.367737Z"
    }
   },
   "outputs": [
    {
     "name": "stdout",
     "output_type": "stream",
     "text": [
      "Accuracy for k= 1 is: 0.66\n",
      "Accuracy for k= 2 is: 0.67\n",
      "Accuracy for k= 3 is: 0.69\n",
      "Accuracy for k= 4 is: 0.68\n",
      "Accuracy for k= 5 is: 0.69\n",
      "Accuracy for k= 6 is: 0.7\n",
      "Accuracy for k= 7 is: 0.69\n",
      "Accuracy for k= 8 is: 0.7\n",
      "Accuracy for k= 9 is: 0.7\n",
      "Accuracy for k= 10 is: 0.69\n",
      "Accuracy for k= 11 is: 0.71\n",
      "Accuracy for k= 12 is: 0.69\n",
      "Accuracy for k= 13 is: 0.7\n",
      "Accuracy for k= 14 is: 0.71\n",
      "Accuracy for k= 15 is: 0.72\n",
      "Accuracy for k= 16 is: 0.69\n",
      "Accuracy for k= 17 is: 0.68\n",
      "Accuracy for k= 18 is: 0.69\n",
      "Accuracy for k= 19 is: 0.71\n",
      "Accuracy for k= 20 is: 0.72\n",
      "Accuracy for k= 21 is: 0.72\n",
      "Accuracy for k= 22 is: 0.73\n",
      "Accuracy for k= 23 is: 0.72\n",
      "Accuracy for k= 24 is: 0.69\n",
      "Accuracy for k= 25 is: 0.75\n",
      "Accuracy for k= 26 is: 0.81\n",
      "Accuracy for k= 27 is: 0.92\n",
      "Accuracy for k= 28 is: 0.95\n",
      "Accuracy for k= 29 is: 1.0\n"
     ]
    }
   ],
   "source": [
    "#k best value \n",
    "n_neighbors=30\n",
    "scores=[]\n",
    "for k in range(1,30):\n",
    "    knn=KNeighborsClassifier(n_neighbors-k)\n",
    "    knn.fit(x_train,y_train)\n",
    "    y_pred=knn.predict(x_test)\n",
    "    print('Accuracy for k=',k,'is:',round(accuracy_score(y_pred,y_test),2))\n",
    "    scores.append(round(accuracy_score(y_pred,y_test),2))"
   ]
  },
  {
   "cell_type": "code",
   "execution_count": 31,
   "id": "8bd9f471",
   "metadata": {
    "ExecuteTime": {
     "end_time": "2022-09-15T16:58:36.803693Z",
     "start_time": "2022-09-15T16:58:36.676362Z"
    }
   },
   "outputs": [
    {
     "data": {
      "text/plain": [
       "Text(0, 0.5, 'Testing Accuracy')"
      ]
     },
     "execution_count": 31,
     "metadata": {},
     "output_type": "execute_result"
    },
    {
     "data": {
      "image/png": "[encoded data removed]",
      "text/plain": [
       "<Figure size 432x288 with 1 Axes>"
      ]
     },
     "metadata": {
      "needs_background": "light"
     },
     "output_type": "display_data"
    }
   ],
   "source": [
    "import matplotlib.pyplot as plt\n",
    "plt.plot(range(1,30),scores)\n",
    "plt.xlabel('Value K for KNN')\n",
    "plt.ylabel('Testing Accuracy')"
   ]
  },
  {
   "cell_type": "code",
   "execution_count": 32,
   "id": "e3b8c958",
   "metadata": {
    "ExecuteTime": {
     "end_time": "2022-09-15T16:58:52.088935Z",
     "start_time": "2022-09-15T16:58:52.066845Z"
    }
   },
   "outputs": [
    {
     "name": "stdout",
     "output_type": "stream",
     "text": [
      "              precision    recall  f1-score   support\n",
      "\n",
      "     disease       1.00      1.00      1.00        98\n",
      "  no disease       1.00      1.00      1.00       107\n",
      "\n",
      "    accuracy                           1.00       205\n",
      "   macro avg       1.00      1.00      1.00       205\n",
      "weighted avg       1.00      1.00      1.00       205\n",
      "\n"
     ]
    }
   ],
   "source": [
    "#CLASSIFICATION REPORT\n",
    "print(classification_report(y_test,y_pred))"
   ]
  },
  {
   "cell_type": "markdown",
   "id": "15251151",
   "metadata": {},
   "source": [
    "# COMPARING MODELS\n",
    "\n"
   ]
  },
  {
   "cell_type": "code",
   "execution_count": 43,
   "id": "39f5bd79",
   "metadata": {
    "ExecuteTime": {
     "end_time": "2022-09-15T17:40:17.201614Z",
     "start_time": "2022-09-15T17:40:17.020432Z"
    }
   },
   "outputs": [
    {
     "data": {
      "image/png": "[encoded data removed]",
      "text/plain": [
       "<Figure size 1152x360 with 1 Axes>"
      ]
     },
     "metadata": {},
     "output_type": "display_data"
    }
   ],
   "source": [
    "methods = [ \"DR_model\",\"RF_model\",\"knn_model\"]\n",
    "accuracy = [100,100,69.26]\n",
    "colors = [\"#CFC60E\", \"magenta\",\"#0FBBAE\"]\n",
    "sns.set_style(\"whitegrid\")\n",
    "plt.figure(figsize=(16,5))\n",
    "plt.yticks(np.arange(0,100,10))\n",
    "plt.ylabel(\"Accuracy %\")\n",
    "plt.xlabel(\"Algorithms\")\n",
    "sns.barplot(x=methods, y=accuracy, palette=colors)\n",
    "plt.show()"
   ]
  },
  {
   "cell_type": "code",
   "execution_count": 111,
   "id": "95b59e62",
   "metadata": {
    "ExecuteTime": {
     "end_time": "2022-09-14T12:08:33.591513Z",
     "start_time": "2022-09-14T12:08:33.555972Z"
    }
   },
   "outputs": [],
   "source": []
  },
  {
   "cell_type": "code",
   "execution_count": null,
   "id": "8a649dd8",
   "metadata": {
    "ExecuteTime": {
     "end_time": "2022-09-06T23:40:25.654924Z",
     "start_time": "2022-09-06T23:40:25.619501Z"
    }
   },
   "outputs": [],
   "source": []
  },
  {
   "cell_type": "code",
   "execution_count": null,
   "id": "b3259560",
   "metadata": {
    "ExecuteTime": {
     "end_time": "2022-09-14T13:15:59.744108Z",
     "start_time": "2022-09-14T13:15:59.724631Z"
    }
   },
   "outputs": [],
   "source": []
  },
  {
   "cell_type": "code",
   "execution_count": null,
   "id": "733d6e16",
   "metadata": {
    "ExecuteTime": {
     "end_time": "2022-09-14T16:00:41.427578Z",
     "start_time": "2022-09-14T16:00:41.345619Z"
    }
   },
   "outputs": [],
   "source": []
  },
  {
   "cell_type": "code",
   "execution_count": null,
   "id": "54905dba",
   "metadata": {
    "ExecuteTime": {
     "end_time": "2022-09-15T17:00:19.805723Z",
     "start_time": "2022-09-15T17:00:19.784410Z"
    }
   },
   "outputs": [],
   "source": []
  },
  {
   "cell_type": "code",
   "execution_count": null,
   "id": "18425fbd",
   "metadata": {
    "ExecuteTime": {
     "end_time": "2022-09-14T12:08:32.916907Z",
     "start_time": "2022-09-14T12:08:32.897162Z"
    }
   },
   "outputs": [],
   "source": []
  },
  {
   "cell_type": "code",
   "execution_count": null,
   "id": "354b549f",
   "metadata": {},
   "outputs": [],
   "source": []
  },
  {
   "cell_type": "code",
   "execution_count": null,
   "id": "990a1790",
   "metadata": {
    "ExecuteTime": {
     "end_time": "2022-09-14T13:09:18.123679Z",
     "start_time": "2022-09-14T13:09:18.104103Z"
    }
   },
   "outputs": [],
   "source": []
  },
  {
   "cell_type": "code",
   "execution_count": null,
   "id": "ba8e0ad4",
   "metadata": {
    "ExecuteTime": {
     "end_time": "2022-09-13T08:05:40.781347Z",
     "start_time": "2022-09-13T08:05:40.684328Z"
    }
   },
   "outputs": [],
   "source": []
  },
  {
   "cell_type": "code",
   "execution_count": null,
   "id": "8f2aacb1",
   "metadata": {
    "ExecuteTime": {
     "end_time": "2022-09-15T17:00:32.007019Z",
     "start_time": "2022-09-15T17:00:31.985148Z"
    }
   },
   "outputs": [],
   "source": []
  },
  {
   "cell_type": "markdown",
   "id": "ffcfbae2",
   "metadata": {},
   "source": []
  },
  {
   "cell_type": "code",
   "execution_count": null,
   "id": "4fd207ef",
   "metadata": {
    "ExecuteTime": {
     "end_time": "2022-09-15T17:01:07.194643Z",
     "start_time": "2022-09-15T17:01:07.176346Z"
    }
   },
   "outputs": [],
   "source": []
  },
  {
   "cell_type": "markdown",
   "id": "da46cd54",
   "metadata": {},
   "source": []
  },
  {
   "cell_type": "markdown",
   "id": "f4e6da25",
   "metadata": {
    "ExecuteTime": {
     "end_time": "2022-09-07T18:59:39.585445Z",
     "start_time": "2022-09-07T18:59:39.412138Z"
    }
   },
   "source": []
  },
  {
   "cell_type": "code",
   "execution_count": null,
   "id": "dfbc1feb",
   "metadata": {
    "ExecuteTime": {
     "end_time": "2022-09-15T17:50:33.032040Z",
     "start_time": "2022-09-15T17:50:32.965640Z"
    }
   },
   "outputs": [],
   "source": []
  },
  {
   "cell_type": "markdown",
   "id": "95f61792",
   "metadata": {},
   "source": []
  },
  {
   "cell_type": "code",
   "execution_count": null,
   "id": "5747b8b2",
   "metadata": {},
   "outputs": [],
   "source": []
  },
  {
   "cell_type": "markdown",
   "id": "f53b3e31",
   "metadata": {},
   "source": [
    "\n",
    "\n"
   ]
  },
  {
   "cell_type": "markdown",
   "id": "2e083de4",
   "metadata": {},
   "source": []
  },
  {
   "cell_type": "markdown",
   "id": "1a9af888",
   "metadata": {},
   "source": []
  },
  {
   "cell_type": "code",
   "execution_count": 121,
   "id": "098eca86",
   "metadata": {
    "ExecuteTime": {
     "end_time": "2022-09-14T13:03:14.962794Z",
     "start_time": "2022-09-14T13:03:14.913777Z"
    }
   },
   "outputs": [],
   "source": []
  },
  {
   "cell_type": "code",
   "execution_count": null,
   "id": "9156ad4d",
   "metadata": {
    "ExecuteTime": {
     "end_time": "2022-09-14T13:04:04.449081Z",
     "start_time": "2022-09-14T13:04:04.428342Z"
    }
   },
   "outputs": [],
   "source": []
  },
  {
   "cell_type": "code",
   "execution_count": null,
   "id": "5e114625",
   "metadata": {
    "ExecuteTime": {
     "end_time": "2022-09-14T13:03:15.965101Z",
     "start_time": "2022-09-14T13:03:15.822327Z"
    }
   },
   "outputs": [],
   "source": []
  },
  {
   "cell_type": "code",
   "execution_count": null,
   "id": "10b633ba",
   "metadata": {
    "ExecuteTime": {
     "end_time": "2022-09-07T19:47:20.621277Z",
     "start_time": "2022-09-07T19:47:20.588483Z"
    }
   },
   "outputs": [],
   "source": []
  },
  {
   "cell_type": "code",
   "execution_count": null,
   "id": "5015d8c2",
   "metadata": {
    "ExecuteTime": {
     "end_time": "2022-09-07T19:47:54.175392Z",
     "start_time": "2022-09-07T19:47:54.140184Z"
    }
   },
   "outputs": [],
   "source": []
  },
  {
   "cell_type": "code",
   "execution_count": null,
   "id": "1f32eb2b",
   "metadata": {},
   "outputs": [],
   "source": []
  }
 ],
 "metadata": {
  "kernelspec": {
   "display_name": "Python 3 (ipykernel)",
   "language": "python",
   "name": "python3"
  },
  "language_info": {
   "codemirror_mode": {
    "name": "ipython",
    "version": 3
   },
   "file_extension": ".py",
   "mimetype": "text/x-python",
   "name": "python",
   "nbconvert_exporter": "python",
   "pygments_lexer": "ipython3",
   "version": "3.9.12"
  },
  "toc": {
   "base_numbering": 1,
   "nav_menu": {},
   "number_sections": true,
   "sideBar": true,
   "skip_h1_title": false,
   "title_cell": "Table of Contents",
   "title_sidebar": "Contents",
   "toc_cell": false,
   "toc_position": {},
   "toc_section_display": true,
   "toc_window_display": false
  },
  "varInspector": {
   "cols": {
    "lenName": 16,
    "lenType": 16,
    "lenVar": 40
   },
   "kernels_config": {
    "python": {
     "delete_cmd_postfix": "",
     "delete_cmd_prefix": "del ",
     "library": "var_list.py",
     "varRefreshCmd": "print(var_dic_list())"
    },
    "r": {
     "delete_cmd_postfix": ") ",
     "delete_cmd_prefix": "rm(",
     "library": "var_list.r",
     "varRefreshCmd": "cat(var_dic_list()) "
    }
   },
   "types_to_exclude": [
    "module",
    "function",
    "builtin_function_or_method",
    "instance",
    "_Feature"
   ],
   "window_display": false
  }
 },
 "nbformat": 4,
 "nbformat_minor": 5
}
